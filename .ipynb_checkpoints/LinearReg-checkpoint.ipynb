{
 "cells": [
  {
   "cell_type": "code",
   "execution_count": 129,
   "metadata": {
    "collapsed": false
   },
   "outputs": [],
   "source": [
    "import matplotlib.pyplot as plt\n",
    "import numpy as np\n",
    "from sklearn import linear_model"
   ]
  },
  {
   "cell_type": "code",
   "execution_count": 130,
   "metadata": {
    "collapsed": true
   },
   "outputs": [],
   "source": [
    "X_train = np.array([[1],[2],[3],[4],[5]])\n",
    "y_train = np.array([[0.5],[1],[2.0],[2.5],[4.5]])"
   ]
  },
  {
   "cell_type": "code",
   "execution_count": 131,
   "metadata": {
    "collapsed": true
   },
   "outputs": [],
   "source": [
    "def gradDesc(X, y, y_pred, theta):\n",
    "    error0 = (y_pred - y) * X[:,0]\n",
    "    error1 = (y_pred - y) * X[:,1]\n",
    "    theta[0][0] = theta[0][0] - 0.001 * (1.0/y.size) * error0.sum()\n",
    "    theta[0][1] = theta[0][1] - 0.001 * (1.0/y.size) * error1.sum()\n",
    "    return theta"
   ]
  },
  {
   "cell_type": "code",
   "execution_count": 132,
   "metadata": {
    "collapsed": false
   },
   "outputs": [],
   "source": [
    "def fit(X, y,num_iter=100):\n",
    "    theta = np.zeros([1, 2])\n",
    "    x_int = np.ones([y.size, 2])\n",
    "    x_int[:,1] = X[:,0]\n",
    "    for i in range(num_iter):\n",
    "        y_pred = np.zeros([1, y.size])\n",
    "        for j in range(X.size):\n",
    "            y_pred[0][j] = np.dot(theta,x_int[j])\n",
    "        theta = gradDesc(x_int, y, y_pred, theta)\n",
    "    return theta"
   ]
  },
  {
   "cell_type": "code",
   "execution_count": 133,
   "metadata": {
    "collapsed": true
   },
   "outputs": [],
   "source": [
    "def predict(X, theta):\n",
    "    y_pred = np.zeros([1, X.size])\n",
    "    l = []\n",
    "    for i in X:\n",
    "        x = np.array([1, i])\n",
    "        l.append(np.dot(theta,x))\n",
    "    return l"
   ]
  },
  {
   "cell_type": "code",
   "execution_count": 134,
   "metadata": {
    "collapsed": false,
    "scrolled": true
   },
   "outputs": [],
   "source": [
    "theta = fit(X_train, y_train)\n",
    "pred = predict(X_train, theta)"
   ]
  },
  {
   "cell_type": "code",
   "execution_count": 135,
   "metadata": {
    "collapsed": false
   },
   "outputs": [
    {
     "data": {
      "text/plain": [
       "array([[ 0.30743826,  0.4952032 ]])"
      ]
     },
     "execution_count": 135,
     "metadata": {},
     "output_type": "execute_result"
    }
   ],
   "source": [
    "theta"
   ]
  },
  {
   "cell_type": "code",
   "execution_count": 136,
   "metadata": {
    "collapsed": false
   },
   "outputs": [
    {
     "data": {
      "text/plain": [
       "[array([ 0.80264146]),\n",
       " array([ 1.29784467]),\n",
       " array([ 1.79304787]),\n",
       " array([ 2.28825107]),\n",
       " array([ 2.78345428])]"
      ]
     },
     "execution_count": 136,
     "metadata": {},
     "output_type": "execute_result"
    }
   ],
   "source": [
    "pred"
   ]
  },
  {
   "cell_type": "code",
   "execution_count": 142,
   "metadata": {
    "collapsed": false
   },
   "outputs": [
    {
     "name": "stdout",
     "output_type": "stream",
     "text": [
      "[array([ 0.80264146]), array([ 1.29784467]), array([ 1.79304787]), array([ 2.28825107]), array([ 2.78345428])]\n"
     ]
    }
   ],
   "source": [
    "print pred\n",
    "plt.scatter(X_train, y_train, color='black')\n",
    "plt.plot(X_train, pred, color='red')\n",
    "plt.plot(X_train, pres, color='blue')\n",
    "plt.show()"
   ]
  },
  {
   "cell_type": "code",
   "execution_count": 138,
   "metadata": {
    "collapsed": false
   },
   "outputs": [],
   "source": [
    "model = linear_model.LinearRegression()\n",
    "model.fit(X_train,y_train)\n",
    "pres = model.predict(X_train)"
   ]
  },
  {
   "cell_type": "code",
   "execution_count": 139,
   "metadata": {
    "collapsed": false
   },
   "outputs": [
    {
     "data": {
      "text/plain": [
       "array([[ 0.95]])"
      ]
     },
     "execution_count": 139,
     "metadata": {},
     "output_type": "execute_result"
    }
   ],
   "source": [
    "model.coef_"
   ]
  },
  {
   "cell_type": "code",
   "execution_count": 140,
   "metadata": {
    "collapsed": false
   },
   "outputs": [
    {
     "data": {
      "text/plain": [
       "array([-0.75])"
      ]
     },
     "execution_count": 140,
     "metadata": {},
     "output_type": "execute_result"
    }
   ],
   "source": [
    "model.intercept_"
   ]
  },
  {
   "cell_type": "code",
   "execution_count": null,
   "metadata": {
    "collapsed": true
   },
   "outputs": [],
   "source": []
  }
 ],
 "metadata": {
  "kernelspec": {
   "display_name": "Python 2",
   "language": "python",
   "name": "python2"
  },
  "language_info": {
   "codemirror_mode": {
    "name": "ipython",
    "version": 2
   },
   "file_extension": ".py",
   "mimetype": "text/x-python",
   "name": "python",
   "nbconvert_exporter": "python",
   "pygments_lexer": "ipython2",
   "version": "2.7.10"
  }
 },
 "nbformat": 4,
 "nbformat_minor": 0
}
