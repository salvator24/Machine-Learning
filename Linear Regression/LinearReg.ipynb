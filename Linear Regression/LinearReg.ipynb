{
 "cells": [
  {
   "cell_type": "code",
   "execution_count": 28,
   "metadata": {
    "collapsed": false
   },
   "outputs": [],
   "source": [
    "import matplotlib.pyplot as plt\n",
    "import numpy as np\n",
    "from sklearn import linear_model, datasets"
   ]
  },
  {
   "cell_type": "code",
   "execution_count": 48,
   "metadata": {
    "collapsed": false
   },
   "outputs": [],
   "source": [
    "diabetes = datasets.load_diabetes()\n",
    "diabetes_X = diabetes.data[:, np.newaxis, 2]\n",
    "dia_X_train = diabetes_X[:-20]\n",
    "dia_X_test = diabetes_X[-20:]"
   ]
  },
  {
   "cell_type": "code",
   "execution_count": 49,
   "metadata": {
    "collapsed": false
   },
   "outputs": [],
   "source": [
    "dia_y_train = diabetes.target[:-20]\n",
    "dia_y_test = diabetes.target[-20:]"
   ]
  },
  {
   "cell_type": "code",
   "execution_count": null,
   "metadata": {
    "collapsed": false
   },
   "outputs": [],
   "source": []
  },
  {
   "cell_type": "code",
   "execution_count": 50,
   "metadata": {
    "collapsed": true
   },
   "outputs": [],
   "source": [
    "X_train = np.array([[1],[2],[3],[4],[5]])\n",
    "y_train = np.array([[0.5],[1],[2.0],[2.5],[4.5]])"
   ]
  },
  {
   "cell_type": "code",
   "execution_count": 85,
   "metadata": {
    "collapsed": true
   },
   "outputs": [],
   "source": [
    "def gradDesc(X, y, y_pred, theta):\n",
    "    error0 = (y_pred - y) * X[:,0]\n",
    "    error1 = (y_pred - y) * X[:,1]\n",
    "    theta[0][0] = theta[0][0] - 0.01 * (1.0/y.size) * error0.sum()\n",
    "    theta[0][1] = theta[0][1] - 0.01 * (1.0/y.size) * error1.sum()\n",
    "    return theta"
   ]
  },
  {
   "cell_type": "code",
   "execution_count": 86,
   "metadata": {
    "collapsed": false
   },
   "outputs": [],
   "source": [
    "def fit(X, y,num_iter=1000):\n",
    "    theta = np.zeros([1, 2])\n",
    "    x_int = np.ones([y.size, 2])\n",
    "    x_int[:,1] = X[:,0]\n",
    "    for i in range(num_iter):\n",
    "        y_pred = np.zeros([1, y.size])\n",
    "        for j in range(X.size):\n",
    "            y_pred[0][j] = np.dot(theta,x_int[j])\n",
    "        theta = gradDesc(x_int, y, y_pred, theta)\n",
    "    return theta"
   ]
  },
  {
   "cell_type": "code",
   "execution_count": 87,
   "metadata": {
    "collapsed": true
   },
   "outputs": [],
   "source": [
    "def predict(X, theta):\n",
    "    y_pred = np.zeros([1, X.size])\n",
    "    y_int = np.ones([X.size, 2])\n",
    "    y_int[:,1] = X[:,0]\n",
    "    l = []\n",
    "    for i in X:\n",
    "        x = np.array([1, i])\n",
    "        l.append(np.dot(theta,x))\n",
    "    return l"
   ]
  },
  {
   "cell_type": "code",
   "execution_count": 88,
   "metadata": {
    "collapsed": false,
    "scrolled": true
   },
   "outputs": [],
   "source": [
    "theta = fit(dia_X_train, dia_y_train)\n",
    "pred = predict(dia_X_test, theta)"
   ]
  },
  {
   "cell_type": "code",
   "execution_count": 89,
   "metadata": {
    "collapsed": false
   },
   "outputs": [
    {
     "data": {
      "text/plain": [
       "array([[ 153.34695384,   21.08033847]])"
      ]
     },
     "execution_count": 89,
     "metadata": {},
     "output_type": "execute_result"
    }
   ],
   "source": [
    "theta"
   ]
  },
  {
   "cell_type": "code",
   "execution_count": 93,
   "metadata": {
    "collapsed": false
   },
   "outputs": [
    {
     "data": {
      "text/plain": [
       "array([ 225.9732401 ,  115.74763374,  163.27610621,  114.73638965,\n",
       "        120.80385422,  158.21988574,  236.08568105,  121.81509832,\n",
       "         99.56772822,  123.83758651,  204.73711411,   96.53399594,\n",
       "        154.17490936,  130.91629517,   83.3878227 ,  171.36605897,\n",
       "        137.99500384,  137.99500384,  189.56845268,   84.3990668 ])"
      ]
     },
     "execution_count": 93,
     "metadata": {},
     "output_type": "execute_result"
    }
   ],
   "source": [
    "pres"
   ]
  },
  {
   "cell_type": "code",
   "execution_count": 94,
   "metadata": {
    "collapsed": false
   },
   "outputs": [
    {
     "name": "stdout",
     "output_type": "stream",
     "text": [
      "[array([ 154.9883404]), array([ 152.51179028]), array([ 153.57966052]), array([ 152.48906964]), array([ 152.6253935]), array([ 153.4660573]), array([ 155.21554683]), array([ 152.64811414]), array([ 152.14825999]), array([ 152.69355543]), array([ 154.51120689]), array([ 152.08009806]), array([ 153.37517473]), array([ 152.85259993]), array([ 151.78472969]), array([ 153.76142566]), array([ 153.01164443]), array([ 153.01164443]), array([ 154.17039724]), array([ 151.80745034])]\n"
     ]
    }
   ],
   "source": [
    "print pred\n",
    "plt.scatter(dia_X_train, dia_y_train, color='black')\n",
    "plt.plot(dia_X_test, pred, color='red')\n",
    "plt.plot(dia_X_test, pres, color='blue')\n",
    "plt.show()"
   ]
  },
  {
   "cell_type": "code",
   "execution_count": 82,
   "metadata": {
    "collapsed": false
   },
   "outputs": [],
   "source": [
    "model = linear_model.LinearRegression()\n",
    "model.fit(dia_X_train,dia_y_train)\n",
    "pres = model.predict(dia_X_test)"
   ]
  },
  {
   "cell_type": "code",
   "execution_count": 83,
   "metadata": {
    "collapsed": false
   },
   "outputs": [
    {
     "data": {
      "text/plain": [
       "array([ 938.23786125])"
      ]
     },
     "execution_count": 83,
     "metadata": {},
     "output_type": "execute_result"
    }
   ],
   "source": [
    "model.coef_"
   ]
  },
  {
   "cell_type": "code",
   "execution_count": 84,
   "metadata": {
    "collapsed": false
   },
   "outputs": [
    {
     "data": {
      "text/plain": [
       "152.91886182616167"
      ]
     },
     "execution_count": 84,
     "metadata": {},
     "output_type": "execute_result"
    }
   ],
   "source": [
    "model.intercept_"
   ]
  },
  {
   "cell_type": "code",
   "execution_count": null,
   "metadata": {
    "collapsed": true
   },
   "outputs": [],
   "source": []
  },
  {
   "cell_type": "code",
   "execution_count": null,
   "metadata": {
    "collapsed": true
   },
   "outputs": [],
   "source": []
  }
 ],
 "metadata": {
  "kernelspec": {
   "display_name": "Python 2",
   "language": "python",
   "name": "python2"
  },
  "language_info": {
   "codemirror_mode": {
    "name": "ipython",
    "version": 2
   },
   "file_extension": ".py",
   "mimetype": "text/x-python",
   "name": "python",
   "nbconvert_exporter": "python",
   "pygments_lexer": "ipython2",
   "version": "2.7.10"
  }
 },
 "nbformat": 4,
 "nbformat_minor": 0
}
